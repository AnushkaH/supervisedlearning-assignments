{
 "nbformat": 4,
 "nbformat_minor": 2,
 "metadata": {
  "language_info": {
   "name": "python",
   "codemirror_mode": {
    "name": "ipython",
    "version": 3
   },
   "version": "3.7.7-final"
  },
  "orig_nbformat": 2,
  "file_extension": ".py",
  "mimetype": "text/x-python",
  "name": "python",
  "npconvert_exporter": "python",
  "pygments_lexer": "ipython3",
  "version": 3,
  "kernelspec": {
   "name": "python37764bitbaseconda9cb7b4a34d8547bd83ee29ac5353c2d6",
   "display_name": "Python 3.7.7 64-bit ('base': conda)"
  }
 },
 "cells": [
  {
   "cell_type": "markdown",
   "metadata": {},
   "source": [
    "## Python Assignments"
   ]
  },
  {
   "cell_type": "code",
   "execution_count": 1,
   "metadata": {},
   "outputs": [],
   "source": [
    "import re"
   ]
  },
  {
   "cell_type": "markdown",
   "metadata": {},
   "source": [
    "\" I am very keen in building up my career in Data Science, but not sure from where to start. If I search the web it throws me thousands of articles, few are relevant others make me confused, again I come around to the same page. Supervised has provided me a good platform to remove all such qualms which were wrangling in my mind\""
   ]
  },
  {
   "cell_type": "markdown",
   "metadata": {},
   "source": [
    "### 1) Consider the above text as a string, figure out the average length of the string.\n",
    "\n"
   ]
  },
  {
   "cell_type": "code",
   "execution_count": 12,
   "metadata": {
    "tags": []
   },
   "outputs": [
    {
     "output_type": "stream",
     "name": "stdout",
     "text": "4.2063492063492065\n"
    }
   ],
   "source": [
    "data = \" I am very keen in building up my career in Data Science, but not sure from where to start. If I search the web it throws me thousands of articles, few are relevant others make me confused, again I come around to the same page. Supervised has provided me a good platform to remove all such qualms which were wrangling in my mind\"\n",
    "\n",
    "data_list = data.split()\n",
    "avg = sum(map(len, data_list)) / len(data_list)\n",
    "print(avg)"
   ]
  },
  {
   "cell_type": "markdown",
   "metadata": {},
   "source": [
    "\n",
    "### 2) Lower the text in the string."
   ]
  },
  {
   "cell_type": "code",
   "execution_count": 3,
   "metadata": {},
   "outputs": [
    {
     "name": "stdout",
     "output_type": "stream",
     "text": "i am very keen in building up my career in data science, but not sure from where to start. if i search the web it throws me thousands of articles, few are relevant others make me confused, again i come around to the same page. supervised has provided me a good platform to remove all such qualms which were wrangling in my mind\n"
    }
   ],
   "source": [
    "print(data.lower())"
   ]
  },
  {
   "cell_type": "markdown",
   "metadata": {},
   "source": [
    "### 3) Try to get the clean text removing the punctuation from the string."
   ]
  },
  {
   "cell_type": "code",
   "execution_count": 15,
   "metadata": {
    "tags": []
   },
   "outputs": [
    {
     "output_type": "stream",
     "name": "stdout",
     "text": "I am very keen in building up my career in Data Science but not sure from where to start If I search the web it throws me thousands of articles few are relevant others make me confused again I come around to the same page Supervised has provided me a good platform to remove all such qualms which were wrangling in my mind\n"
    }
   ],
   "source": [
    "print(data.replace(\",\", \"\").replace(\".\", \"\"))\n"
   ]
  },
  {
   "cell_type": "markdown",
   "metadata": {},
   "source": [
    "### 4) Extract word \"Data Science\" from the string."
   ]
  },
  {
   "cell_type": "code",
   "execution_count": 16,
   "metadata": {
    "tags": []
   },
   "outputs": [
    {
     "output_type": "stream",
     "name": "stdout",
     "text": "Data Science\n"
    }
   ],
   "source": [
    "start = data.find(\"Data Science\")\n",
    "end = start + len(\"Data Science\")\n",
    "print(data[start : end])"
   ]
  },
  {
   "cell_type": "markdown",
   "metadata": {},
   "source": [
    "### 5) Find the frequency of words used in the string."
   ]
  },
  {
   "cell_type": "code",
   "execution_count": 38,
   "metadata": {
    "tags": []
   },
   "outputs": [
    {
     "output_type": "execute_result",
     "data": {
      "text/plain": "Counter({'I': 3,\n         'am': 1,\n         'very': 1,\n         'keen': 1,\n         'in': 3,\n         'building': 1,\n         'up': 1,\n         'my': 2,\n         'career': 1,\n         'Data': 1,\n         'Science,': 1,\n         'but': 1,\n         'not': 1,\n         'sure': 1,\n         'from': 1,\n         'where': 1,\n         'to': 3,\n         'start.': 1,\n         'If': 1,\n         'search': 1,\n         'the': 2,\n         'web': 1,\n         'it': 1,\n         'throws': 1,\n         'me': 3,\n         'thousands': 1,\n         'of': 1,\n         'articles,': 1,\n         'few': 1,\n         'are': 1,\n         'relevant': 1,\n         'others': 1,\n         'make': 1,\n         'confused,': 1,\n         'again': 1,\n         'come': 1,\n         'around': 1,\n         'same': 1,\n         'page.': 1,\n         'Supervised': 1,\n         'has': 1,\n         'provided': 1,\n         'a': 1,\n         'good': 1,\n         'platform': 1,\n         'remove': 1,\n         'all': 1,\n         'such': 1,\n         'qualms': 1,\n         'which': 1,\n         'were': 1,\n         'wrangling': 1,\n         'mind': 1})"
     },
     "metadata": {},
     "execution_count": 38
    }
   ],
   "source": [
    "from collections import Counter\n",
    "\n",
    "Counter(data.split())"
   ]
  },
  {
   "cell_type": "markdown",
   "metadata": {},
   "source": [
    "### 6) Find all the words which occurred more than once in the string."
   ]
  },
  {
   "cell_type": "code",
   "execution_count": 46,
   "metadata": {
    "tags": []
   },
   "outputs": [
    {
     "output_type": "execute_result",
     "data": {
      "text/plain": "[{3, 'I'}, {3, 'in'}, {2, 'my'}, {3, 'to'}, {2, 'the'}, {3, 'me'}]"
     },
     "metadata": {},
     "execution_count": 46
    }
   ],
   "source": [
    "c = Counter(data.split())\n",
    "[{k, v} for k, v in c.items() if v > 1]"
   ]
  },
  {
   "cell_type": "markdown",
   "metadata": {},
   "source": [
    "### 7) Can you change the word \"Supervised\" to \"Unsupervised\" in the string\n",
    "\n"
   ]
  },
  {
   "cell_type": "code",
   "execution_count": 8,
   "metadata": {},
   "outputs": [
    {
     "name": "stdout",
     "output_type": "stream",
     "text": "I am very keen in building up my career in Data Science, but not sure from where to start. If I search the web it throws me thousands of articles, few are relevant others make me confused, again I come around to the same page. Unsupervised has provided me a good platform to remove all such qualms which were wrangling in my mind\n"
    }
   ],
   "source": [
    "print(data.replace('Supervised', 'Unsupervised'))"
   ]
  },
  {
   "cell_type": "markdown",
   "metadata": {},
   "source": [
    "### 8) Splitting of the string with a dot operator(.)\n",
    "\n"
   ]
  },
  {
   "cell_type": "code",
   "execution_count": 9,
   "metadata": {},
   "outputs": [
    {
     "data": {
      "text/plain": "[' I am very keen in building up my career in Data Science, but not sure from where to start',\n ' If I search the web it throws me thousands of articles, few are relevant others make me confused, again I come around to the same page',\n ' Supervised has provided me a good platform to remove all such qualms which were wrangling in my mind']"
     },
     "execution_count": 9,
     "metadata": {},
     "output_type": "execute_result"
    }
   ],
   "source": [
    "data.split('.')"
   ]
  },
  {
   "cell_type": "markdown",
   "metadata": {},
   "source": [
    "### 9) Find the words from the string which ends with \"e\"\n",
    "\n",
    " "
   ]
  },
  {
   "cell_type": "code",
   "execution_count": 50,
   "metadata": {
    "tags": []
   },
   "outputs": [
    {
     "output_type": "stream",
     "name": "stdout",
     "text": "['Science', 'sure', 'where', 'the', 'me', 'are', 'make', 'me', 'come', 'the', 'same', 'page', 'me', 'remove', 'were']\n"
    }
   ],
   "source": [
    "data_processed = re.sub(\"\\W+\", \" \", data)\n",
    "print([word for word in data_processed.split() if word.endswith('e')])"
   ]
  },
  {
   "cell_type": "code",
   "execution_count": null,
   "metadata": {},
   "outputs": [],
   "source": []
  },
  {
   "cell_type": "markdown",
   "metadata": {},
   "source": [
    "### 10) Figure out number of a's used in the string.\n",
    "\n"
   ]
  },
  {
   "cell_type": "code",
   "execution_count": 53,
   "metadata": {
    "tags": []
   },
   "outputs": [
    {
     "output_type": "stream",
     "name": "stdout",
     "text": "22\n"
    }
   ],
   "source": [
    "print(data.count('a'))"
   ]
  },
  {
   "cell_type": "markdown",
   "metadata": {},
   "source": [
    "## Questions on Dictionary"
   ]
  },
  {
   "cell_type": "markdown",
   "metadata": {},
   "source": [
    "In the weekend , I purchased 250g of apple, 500g of sugar, 2.5 kg of rice, 2.5 litres of milk and finally 1 dozen of egg.\n"
   ]
  },
  {
   "cell_type": "markdown",
   "metadata": {},
   "source": [
    "### 1) Can you help me frame the above purchase in the form of dictionary with commodities as keys to it.\n",
    "\n"
   ]
  },
  {
   "cell_type": "code",
   "execution_count": 55,
   "metadata": {
    "tags": []
   },
   "outputs": [
    {
     "output_type": "stream",
     "name": "stdout",
     "text": "{'apple': '250g', 'sugar': '500g', 'rice': '2.5kg', 'milk': '2.5litres', 'egg': '1dozen'}\n"
    }
   ],
   "source": [
    "weekend_purchase = {\"apple\": \"250g\",\n",
    "                    \"sugar\": \"500g\",\n",
    "                    \"rice\": \"2.5kg\",\n",
    "                    \"milk\": \"2.5litres\",\n",
    "                    \"egg\": \"1dozen\"}\n",
    "print(weekend_purchase)"
   ]
  },
  {
   "cell_type": "markdown",
   "metadata": {},
   "source": [
    "### 2) I forgot to mention another item, 1kg of atta packet. Can you also add it ?\n",
    "\n"
   ]
  },
  {
   "cell_type": "code",
   "execution_count": 58,
   "metadata": {
    "tags": []
   },
   "outputs": [
    {
     "output_type": "stream",
     "name": "stdout",
     "text": "{'apple': '250g', 'sugar': '500g', 'rice': '2.5kg', 'milk': '2.5litres', 'egg': '1dozen', 'atta': '1kg'}\n"
    }
   ],
   "source": [
    "weekend_purchase.update({\"atta\": \"1kg\"})\n",
    "print(weekend_purchase)"
   ]
  },
  {
   "cell_type": "markdown",
   "metadata": {},
   "source": [
    "### 3) Instead of 2kg of rice, I bought only 1kg of rice. Can you change the corresponding value ?\n",
    "\n"
   ]
  },
  {
   "cell_type": "code",
   "execution_count": 59,
   "metadata": {
    "tags": []
   },
   "outputs": [
    {
     "output_type": "stream",
     "name": "stdout",
     "text": "{'apple': '250g', 'sugar': '500g', 'rice': '1kg', 'milk': '2.5litres', 'egg': '1dozen', 'atta': '1kg'}\n"
    }
   ],
   "source": [
    "weekend_purchase.update({\"rice\": \"1kg\"})\n",
    "print(weekend_purchase)"
   ]
  },
  {
   "cell_type": "markdown",
   "metadata": {},
   "source": [
    "### 4) Can you list out all these items using a loop.\n",
    "\n"
   ]
  },
  {
   "cell_type": "code",
   "execution_count": 63,
   "metadata": {
    "tags": []
   },
   "outputs": [
    {
     "output_type": "stream",
     "name": "stdout",
     "text": "apple 250g\nsugar 500g\nrice 1kg\nmilk 2.5litres\negg 1dozen\natta 1kg\n"
    }
   ],
   "source": [
    "for key, val in weekend_purchase.items():\n",
    "    print(key, val)"
   ]
  },
  {
   "cell_type": "markdown",
   "metadata": {},
   "source": [
    "However, the cost of 1 kg apple is Rs.220, 1 kg of sugar is Rs.43, 1 Kg of rice is Rs. 45, 1 litre of milk is Rs.30 and 1 dozen of egg is Rs. 60.\n"
   ]
  },
  {
   "cell_type": "markdown",
   "metadata": {},
   "source": [
    "### 1) Create another dictionary for pricing.\n",
    "\n"
   ]
  },
  {
   "cell_type": "code",
   "execution_count": 66,
   "metadata": {
    "tags": []
   },
   "outputs": [
    {
     "output_type": "stream",
     "name": "stdout",
     "text": "{'apple': 220, 'sugar': 43, 'rice': 45, 'milk': 30, 'egg': 60}\n"
    }
   ],
   "source": [
    "item_price = {\"apple\": 220, \"sugar\": 43, \"rice\": 45, \"milk\": 30, \"egg\": 60}\n",
    "print(item_price)\n"
   ]
  },
  {
   "cell_type": "markdown",
   "metadata": {},
   "source": [
    "### 2) Thereby, prepare a bill for me of the overall cost of the total commodities purchased by using two dictionaries ! "
   ]
  },
  {
   "cell_type": "code",
   "execution_count": 67,
   "metadata": {
    "tags": []
   },
   "outputs": [
    {
     "output_type": "stream",
     "name": "stdout",
     "text": "256.5\n"
    }
   ],
   "source": [
    "bill = {}\n",
    "conventions = ('kg', 'g', 'litres', 'dozen')\n",
    "for item, quantity in weekend_purchase.items():\n",
    "    for unit_item, price in item_price.items():\n",
    "        if item == unit_item:\n",
    "            if 'g' in quantity:\n",
    "                if 'kg' in quantity:\n",
    "                    bill.update({item: price * float(quantity.replace('kg', ''))})\n",
    "                else:\n",
    "                    bill.update({item: price * float(quantity.replace('g', '')) / 1000})\n",
    "            elif 'dozen' in quantity:\n",
    "                bill.update({item: price * float(quantity.replace('dozen', ''))})\n",
    "            elif'litres' in quantity:\n",
    "                bill.update({item: price * float(quantity.replace('litres', ''))})\n",
    "\n",
    "print(sum(bill.values()))"
   ]
  },
  {
   "cell_type": "markdown",
   "metadata": {},
   "source": [
    "### Questions on List"
   ]
  },
  {
   "cell_type": "markdown",
   "metadata": {},
   "source": [
    "ai_companies = \\[\"Amazon\", \"Facebook\", \"HiSilicon\", \"Google\", \"Apple\", \"Microsoft\", \"SenseTime\"\\]\n"
   ]
  },
  {
   "cell_type": "markdown",
   "metadata": {},
   "source": [
    "### 1) Sort the list in ascending order\n",
    "\n"
   ]
  },
  {
   "cell_type": "code",
   "execution_count": 68,
   "metadata": {
    "tags": []
   },
   "outputs": [
    {
     "output_type": "stream",
     "name": "stdout",
     "text": "['Amazon', 'Apple', 'Facebook', 'Google', 'HiSilicon', 'Microsoft', 'SenseTime']\n"
    }
   ],
   "source": [
    "ai_companies = [\"Amazon\", \"Facebook\", \"HiSilicon\", \"Google\", \"Apple\", \"Microsoft\", \"SenseTime\"]\n",
    "ai_companies.sort()\n",
    "print(ai_companies)"
   ]
  },
  {
   "cell_type": "markdown",
   "metadata": {},
   "source": [
    "### 2) Add multiple companies at once 'Nvidia', 'OpenAI' , 'Qualcomm' and 'Reliance' to the list\n",
    "\n"
   ]
  },
  {
   "cell_type": "code",
   "execution_count": 69,
   "metadata": {
    "tags": []
   },
   "outputs": [
    {
     "output_type": "stream",
     "name": "stdout",
     "text": "['Amazon', 'Apple', 'Facebook', 'Google', 'HiSilicon', 'Microsoft', 'SenseTime', 'Nvidia', 'OpenAI', 'Qualcomm', 'Reliance']\n"
    }
   ],
   "source": [
    "ai_companies.extend(['Nvidia', 'OpenAI' , 'Qualcomm', 'Reliance'])\n",
    "print(ai_companies)"
   ]
  },
  {
   "cell_type": "markdown",
   "metadata": {},
   "source": [
    "### 3) Lower the list using List comprehension\n",
    "\n"
   ]
  },
  {
   "cell_type": "code",
   "execution_count": 70,
   "metadata": {
    "tags": []
   },
   "outputs": [
    {
     "output_type": "stream",
     "name": "stdout",
     "text": "['amazon', 'apple', 'facebook', 'google', 'hisilicon', 'microsoft', 'sensetime', 'nvidia', 'openai', 'qualcomm', 'reliance']\n"
    }
   ],
   "source": [
    "print([company.lower() for company in ai_companies])"
   ]
  },
  {
   "cell_type": "markdown",
   "metadata": {},
   "source": [
    "### 4) Elimiate 'Reliance' from the list\n",
    "\n"
   ]
  },
  {
   "cell_type": "code",
   "execution_count": 71,
   "metadata": {
    "tags": []
   },
   "outputs": [
    {
     "output_type": "stream",
     "name": "stdout",
     "text": "['Amazon', 'Apple', 'Facebook', 'Google', 'HiSilicon', 'Microsoft', 'SenseTime', 'Nvidia', 'OpenAI', 'Qualcomm']\n"
    }
   ],
   "source": [
    "ai_companies.remove('Reliance')\n",
    "print(ai_companies)"
   ]
  },
  {
   "cell_type": "markdown",
   "metadata": {},
   "source": [
    "### 5) Extract 'Facebook', 'Google' and 'Microsoft' using a single command\n",
    "\n"
   ]
  },
  {
   "cell_type": "code",
   "execution_count": 72,
   "metadata": {
    "tags": []
   },
   "outputs": [
    {
     "output_type": "stream",
     "name": "stdout",
     "text": "['Facebook', 'Google', 'Microsoft']\n"
    }
   ],
   "source": [
    "ai_companies = [\"Amazon\", \"Facebook\", \"HiSilicon\", \"Google\", \"Apple\", \"Microsoft\", \"SenseTime\"]\n",
    "print(ai_companies[1::2])"
   ]
  },
  {
   "cell_type": "markdown",
   "metadata": {},
   "source": [
    "### Questions on Tuple"
   ]
  },
  {
   "cell_type": "markdown",
   "metadata": {},
   "source": [
    "### 1) Consider the above standard price problem statement and place the prices in the form of the tuple."
   ]
  },
  {
   "cell_type": "code",
   "execution_count": 74,
   "metadata": {
    "tags": []
   },
   "outputs": [
    {
     "output_type": "stream",
     "name": "stdout",
     "text": "(('apple', 220), ('sugar', 43), ('rice', 45), ('milk', 30), ('egg', 60))\n"
    }
   ],
   "source": [
    "tup = ((\"apple\", 220), (\"sugar\", 43), (\"rice\", 45), (\"milk\", 30), (\"egg\", 60))\n",
    "print(tup)"
   ]
  },
  {
   "cell_type": "markdown",
   "metadata": {},
   "source": [
    "### 2) Find out the min and max price among them."
   ]
  },
  {
   "cell_type": "code",
   "execution_count": 75,
   "metadata": {
    "tags": []
   },
   "outputs": [
    {
     "output_type": "stream",
     "name": "stdout",
     "text": "('apple', 220)\n('milk', 30)\n"
    }
   ],
   "source": [
    "print(max(tup, key=lambda item:item[1]))\n",
    "print(min(tup, key=lambda item:item[1]))"
   ]
  },
  {
   "cell_type": "markdown",
   "metadata": {},
   "source": [
    "### 3) Also, convert the above \"AI_companies\" list to a tuple."
   ]
  },
  {
   "cell_type": "code",
   "execution_count": 76,
   "metadata": {
    "tags": []
   },
   "outputs": [
    {
     "output_type": "stream",
     "name": "stdout",
     "text": "('Amazon', 'Facebook', 'HiSilicon', 'Google', 'Apple', 'Microsoft', 'SenseTime')\n"
    }
   ],
   "source": [
    "ai_companies = [\"Amazon\", \"Facebook\", \"HiSilicon\", \"Google\", \"Apple\", \"Microsoft\", \"SenseTime\"]\n",
    "ai_companies_tup = tuple(ai_companies)\n",
    "print(ai_companies_tup)"
   ]
  },
  {
   "cell_type": "markdown",
   "metadata": {},
   "source": [
    "### 4) Combine two above tuples to a single tuple."
   ]
  },
  {
   "cell_type": "code",
   "execution_count": 77,
   "metadata": {
    "tags": []
   },
   "outputs": [
    {
     "output_type": "stream",
     "name": "stdout",
     "text": "(('apple', 220), ('sugar', 43), ('rice', 45), ('milk', 30), ('egg', 60), 'Amazon', 'Facebook', 'HiSilicon', 'Google', 'Apple', 'Microsoft', 'SenseTime')\n"
    }
   ],
   "source": [
    "combined_tuple = tup + ai_companies_tup\n",
    "print(combined_tuple)"
   ]
  },
  {
   "cell_type": "markdown",
   "metadata": {},
   "source": [
    "### 5) Compare the length of two tuples."
   ]
  },
  {
   "cell_type": "code",
   "execution_count": 78,
   "metadata": {
    "tags": []
   },
   "outputs": [
    {
     "output_type": "stream",
     "name": "stdout",
     "text": "5\n7\n"
    }
   ],
   "source": [
    "print(len(commodity_price_tup))\n",
    "print(len(ai_companies_tup))"
   ]
  },
  {
   "cell_type": "code",
   "execution_count": null,
   "metadata": {},
   "outputs": [],
   "source": []
  }
 ]
}