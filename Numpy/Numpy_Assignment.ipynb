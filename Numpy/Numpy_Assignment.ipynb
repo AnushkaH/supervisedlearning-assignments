{
 "nbformat": 4,
 "nbformat_minor": 2,
 "metadata": {
  "language_info": {
   "name": "python",
   "codemirror_mode": {
    "name": "ipython",
    "version": 3
   },
   "version": "3.7.7-final"
  },
  "orig_nbformat": 2,
  "file_extension": ".py",
  "mimetype": "text/x-python",
  "name": "python",
  "npconvert_exporter": "python",
  "pygments_lexer": "ipython3",
  "version": 3,
  "kernelspec": {
   "name": "python37764bitbaseconda9cb7b4a34d8547bd83ee29ac5353c2d6",
   "display_name": "Python 3.7.7 64-bit ('base': conda)"
  }
 },
 "cells": [
  {
   "cell_type": "markdown",
   "metadata": {},
   "source": [
    "# Numpy Assignments"
   ]
  },
  {
   "cell_type": "code",
   "execution_count": 1,
   "metadata": {},
   "outputs": [],
   "source": [
    "import numpy as np"
   ]
  },
  {
   "cell_type": "markdown",
   "metadata": {},
   "source": [
    "### 1) Create a 1D array of numbers from 0 to 9.\n",
    "\n"
   ]
  },
  {
   "cell_type": "code",
   "execution_count": 2,
   "metadata": {
    "tags": []
   },
   "outputs": [
    {
     "output_type": "stream",
     "name": "stdout",
     "text": "[0 1 2 3 4 5 6 7 8 9]\n"
    }
   ],
   "source": [
    "x = np.arange(0, 10)\n",
    "print(x)"
   ]
  },
  {
   "cell_type": "markdown",
   "metadata": {},
   "source": [
    "### 2) Create a 3×3 numpy array of all True’s"
   ]
  },
  {
   "cell_type": "code",
   "execution_count": 3,
   "metadata": {
    "tags": []
   },
   "outputs": [
    {
     "output_type": "stream",
     "name": "stdout",
     "text": "[[ True  True  True]\n [ True  True  True]\n [ True  True  True]]\n"
    }
   ],
   "source": [
    "x = np.ones((3, 3), dtype = bool)\n",
    "print(x)"
   ]
  },
  {
   "cell_type": "markdown",
   "metadata": {},
   "source": [
    "### 3) Given an array as input, print only odd numbers as output"
   ]
  },
  {
   "cell_type": "code",
   "execution_count": 5,
   "metadata": {
    "tags": []
   },
   "outputs": [
    {
     "output_type": "stream",
     "name": "stdout",
     "text": "[ 0  1  2  3  4  5  6  7  8  9 10 11 12 13 14 15 16 17 18 19]\n[ 1  3  5  7  9 11 13 15 17 19]\n"
    }
   ],
   "source": [
    "x = np.arange(0, 20)\n",
    "print(x)\n",
    "y = x[np.where(x%2)]\n",
    "print(y)"
   ]
  },
  {
   "cell_type": "markdown",
   "metadata": {},
   "source": [
    "### 4) Replace all odd numbers in arr with -2"
   ]
  },
  {
   "cell_type": "code",
   "execution_count": 6,
   "metadata": {
    "tags": []
   },
   "outputs": [
    {
     "output_type": "stream",
     "name": "stdout",
     "text": "[ 0 -2  2 -2  4 -2  6 -2  8 -2 10 -2 12 -2 14 -2 16 -2 18 -2]\n"
    }
   ],
   "source": [
    "x = np.arange(0, 20)\n",
    "x[np.where(x%2)] = -2\n",
    "print(x)"
   ]
  },
  {
   "cell_type": "markdown",
   "metadata": {},
   "source": [
    "### 5) How to reshape an array?"
   ]
  },
  {
   "cell_type": "code",
   "execution_count": 7,
   "metadata": {
    "tags": []
   },
   "outputs": [
    {
     "output_type": "stream",
     "name": "stdout",
     "text": "[ 0  1  2  3  4  5  6  7  8  9 10 11 12 13 14 15 16 17 18 19]\n[[ 0  1]\n [ 2  3]\n [ 4  5]\n [ 6  7]\n [ 8  9]\n [10 11]\n [12 13]\n [14 15]\n [16 17]\n [18 19]]\n"
    }
   ],
   "source": [
    "x = np.arange(0, 20)\n",
    "print(x)\n",
    "y = x.reshape((10, 2))\n",
    "print(y)"
   ]
  },
  {
   "cell_type": "markdown",
   "metadata": {},
   "source": [
    "### 6) Convert a 1D array to a 2D array with 2 rows"
   ]
  },
  {
   "cell_type": "code",
   "execution_count": 8,
   "metadata": {
    "tags": []
   },
   "outputs": [
    {
     "output_type": "stream",
     "name": "stdout",
     "text": "[ 0  1  2  3  4  5  6  7  8  9 10 11 12 13 14 15 16 17 18 19]\n[[ 0  1  2  3  4  5  6  7  8  9]\n [10 11 12 13 14 15 16 17 18 19]]\n"
    }
   ],
   "source": [
    "x = np.arange(0, 20)\n",
    "print(x)\n",
    "y = x.reshape((2, int(x.size/2)))\n",
    "print(y)\n"
   ]
  },
  {
   "cell_type": "markdown",
   "metadata": {},
   "source": [
    "### 7) Given an array  a  = \\[1,2,3,4,5,6,7,8,9\\] , create  new array b from a such that b includes all odd numbers and 4 multiples. "
   ]
  },
  {
   "cell_type": "code",
   "execution_count": 9,
   "metadata": {
    "tags": []
   },
   "outputs": [
    {
     "output_type": "stream",
     "name": "stdout",
     "text": "[1 3 4 5 7 8 9]\n"
    }
   ],
   "source": [
    "data = np.arange(1, 10)\n",
    "x = data[np.where(np.logical_or(data % 2 != 0,  data % 4 == 0))]\n",
    "print(x)"
   ]
  },
  {
   "cell_type": "markdown",
   "metadata": {},
   "source": [
    "### 8) Given array, check if there are any null values and print them out. "
   ]
  },
  {
   "cell_type": "code",
   "execution_count": 26,
   "metadata": {
    "tags": []
   },
   "outputs": [
    {
     "output_type": "stream",
     "name": "stdout",
     "text": "[nan]\n"
    }
   ],
   "source": [
    "x = np.arange(0, 5, dtype=float)\n",
    "x[1] = np.nan\n",
    "print(x[np.isnan(x)])"
   ]
  },
  {
   "cell_type": "markdown",
   "metadata": {},
   "source": [
    "### 9) How to replace all missing values with 0 in a numpy array?"
   ]
  },
  {
   "cell_type": "code",
   "execution_count": 27,
   "metadata": {
    "tags": []
   },
   "outputs": [
    {
     "output_type": "stream",
     "name": "stdout",
     "text": "[ 0.  1.  2.  3.  4.  5.  6.  7.  8.  9. nan nan nan 13. 14. 15. 16. 17.\n 18. 19.]\n[ 0.  1.  2.  3.  4.  5.  6.  7.  8.  9.  0.  0.  0. 13. 14. 15. 16. 17.\n 18. 19.]\n"
    }
   ],
   "source": [
    "x = np.arange(0, 20, dtype = float)\n",
    "x[10] = np.nan\n",
    "x[11] = np.nan\n",
    "x[12] = np.nan\n",
    "print(x)\n",
    "x[np.where(np.isnan(x))] = 0\n",
    "print(x)"
   ]
  },
  {
   "cell_type": "markdown",
   "metadata": {},
   "source": [
    "### 10) How to find the count of each unique number in a NumPy array?"
   ]
  },
  {
   "cell_type": "code",
   "execution_count": 28,
   "metadata": {
    "tags": []
   },
   "outputs": [
    {
     "output_type": "stream",
     "name": "stdout",
     "text": "[[1 3]\n [2 1]\n [3 3]\n [4 3]\n [5 2]\n [6 1]]\n"
    }
   ],
   "source": [
    "x = np.array([1, 2, 3, 4, 5, 6, 1, 3, 4, 1, 3, 5, 4])\n",
    "unique, counts = np.unique(x, return_counts = True)\n",
    "\n",
    "print(np.asarray((unique, counts)).T)"
   ]
  },
  {
   "cell_type": "markdown",
   "metadata": {},
   "source": [
    "### 11) How to convert a numeric to a categorical (text) array?"
   ]
  },
  {
   "cell_type": "code",
   "execution_count": 29,
   "metadata": {},
   "outputs": [
    {
     "output_type": "execute_result",
     "data": {
      "text/plain": "array(['1', '2', '3', '4', '5'], dtype='<U1')"
     },
     "metadata": {},
     "execution_count": 29
    }
   ],
   "source": [
    "x = np.array([10, 20, 30, 40, 50])\n",
    "x = x.astype('<U1')\n",
    "x"
   ]
  },
  {
   "cell_type": "markdown",
   "metadata": {},
   "source": [
    "### 12) Write a program to print all numbers between 99 and 299 which are either divisible by 5 or 7. Exclude the elements which are divisible by both."
   ]
  },
  {
   "cell_type": "code",
   "execution_count": 31,
   "metadata": {},
   "outputs": [
    {
     "output_type": "execute_result",
     "data": {
      "text/plain": "array([100, 110, 112, 115, 119, 120, 125, 126, 130, 133, 135, 145, 147,\n       150, 154, 155, 160, 161, 165, 168, 170, 180, 182, 185, 189, 190,\n       195, 196, 200, 203, 205, 215, 217, 220, 224, 225, 230, 231, 235,\n       238, 240, 250, 252, 255, 259, 260, 265, 266, 270, 273, 275, 285,\n       287, 290, 294, 295])"
     },
     "metadata": {},
     "execution_count": 31
    }
   ],
   "source": [
    "x = np.arange(99, 300)\n",
    "x[np.where(np.logical_and(np.logical_or((x % 5 == 0), (x % 7 == 0)), np.logical_not(np.logical_and((x % 5 == 0), (x % 7 == 0)))\n",
    "))]"
   ]
  },
  {
   "cell_type": "markdown",
   "metadata": {},
   "source": [
    "### 13) Write a program to reverse an array and print (Don’t use inbuilt reverse functions)"
   ]
  },
  {
   "cell_type": "code",
   "execution_count": 32,
   "metadata": {
    "tags": []
   },
   "outputs": [
    {
     "output_type": "stream",
     "name": "stdout",
     "text": "[50 40 30 20 10]\n"
    }
   ],
   "source": [
    "x = np.array([10, 20, 30, 40, 50])\n",
    "y = x[-1::-1]\n",
    "print(y)"
   ]
  },
  {
   "cell_type": "code",
   "execution_count": null,
   "metadata": {},
   "outputs": [],
   "source": []
  }
 ]
}